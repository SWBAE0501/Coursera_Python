{
 "cells": [
  {
   "cell_type": "code",
   "execution_count": null,
   "metadata": {},
   "outputs": [],
   "source": [
    "#1\n",
    "컴퓨터 프로그램이란?\n",
    "컴퓨터에서 실행되는 작업을 완료하기 위해 수행해야 하는 작업에 대한 단계별 레시피입니다."
   ]
  },
  {
   "cell_type": "code",
   "execution_count": null,
   "metadata": {},
   "outputs": [],
   "source": [
    "#2\n",
    "자동화란?\n",
    "수동 단계를 자동으로 발생하는 단계로 대체하는 프로세스입니다."
   ]
  },
  {
   "cell_type": "code",
   "execution_count": null,
   "metadata": {},
   "outputs": [],
   "source": [
    "#3\n",
    "자동화에 적합한 작업은?\n",
    "각 영업 사원이 지난 달에 얼마를 판매했는지에 대한 보고서 작성.\n",
    "\n",
    "회사에 입사하는 신입 사원의 홈 디렉토리 및 접근 권한 설정.\n",
    "\n",
    "카탈로그의 최신 제품으로 회사의 전자 상거래 사이트 채우기."
   ]
  },
  {
   "cell_type": "code",
   "execution_count": null,
   "metadata": {},
   "outputs": [],
   "source": [
    "#4\n",
    "파이썬 언어의 특징은?\n",
    "파이썬 프로그램은 작성하기 쉽고 이해하기 쉽습니다.\n",
    "파이썬 인터프리터는 코드를 읽고 그것을 컴퓨터 명령어로 변환합니다.\n",
    "웹 인터프리터나 코드패드를 사용하여 파이썬을 연습할 수 있을 뿐만 아니라 로컬에서 실행할 수 있습니다. "
   ]
  },
  {
   "cell_type": "code",
   "execution_count": null,
   "metadata": {},
   "outputs": [],
   "source": [
    "#5\n",
    "파이썬은 다른 언어와 어떻게 비교됩니까?\n",
    "\n",
    "각 프로그래밍 언어에는 장단점이 있습니다."
   ]
  },
  {
   "cell_type": "code",
   "execution_count": null,
   "metadata": {},
   "outputs": [],
   "source": [
    "#6\n",
    "print(\"Automating with Python is fun!\")"
   ]
  },
  {
   "cell_type": "code",
   "execution_count": null,
   "metadata": {},
   "outputs": [],
   "source": [
    "#7\n",
    "color = \"Yellow\"\n",
    "thing = \"sunshine\"\n",
    "print(color + \" is the color of \" + thing)"
   ]
  },
  {
   "cell_type": "code",
   "execution_count": null,
   "metadata": {},
   "outputs": [],
   "source": [
    "#8\n",
    "day = 86400\n",
    "week = 7*day\n",
    "print(week)"
   ]
  },
  {
   "cell_type": "code",
   "execution_count": null,
   "metadata": {},
   "outputs": [],
   "source": [
    "#9\n",
    "print(26**6)"
   ]
  },
  {
   "cell_type": "code",
   "execution_count": null,
   "metadata": {},
   "outputs": [],
   "source": [
    "#10\n",
    "disk_size = 16*1024*1024*1024\n",
    "sector_size = 512\n",
    "sector_amount = (disk_size / sector_size)\n",
    "\n",
    "print(sector_amount)"
   ]
  },
  {
   "cell_type": "code",
   "execution_count": null,
   "metadata": {},
   "outputs": [],
   "source": []
  },
  {
   "cell_type": "code",
   "execution_count": null,
   "metadata": {},
   "outputs": [],
   "source": []
  }
 ],
 "metadata": {
  "language_info": {
   "name": "python"
  },
  "orig_nbformat": 4
 },
 "nbformat": 4,
 "nbformat_minor": 2
}
