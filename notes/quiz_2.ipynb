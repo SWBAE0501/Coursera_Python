{
 "cells": [
  {
   "cell_type": "code",
   "execution_count": null,
   "metadata": {},
   "outputs": [],
   "source": [
    "print(\"My first Python program\")"
   ]
  },
  {
   "cell_type": "code",
   "execution_count": null,
   "metadata": {},
   "outputs": [],
   "source": [
    "파이썬은 스크립팅 및 자동화에 널리 사용되는 범용 스크립팅 언어 중 하나입니다"
   ]
  },
  {
   "cell_type": "code",
   "execution_count": null,
   "metadata": {},
   "outputs": [],
   "source": [
    "print(\"Have a nice day\")"
   ]
  },
  {
   "cell_type": "code",
   "execution_count": null,
   "metadata": {},
   "outputs": [],
   "source": [
    "for i in range(5):\n",
    "  print(\"This is fun!\")"
   ]
  },
  {
   "cell_type": "code",
   "execution_count": null,
   "metadata": {},
   "outputs": [],
   "source": [
    "for i in range(5):\n",
    "  print(\"This is fun!\")"
   ]
  },
  {
   "cell_type": "code",
   "execution_count": null,
   "metadata": {},
   "outputs": [],
   "source": [
    "git push <저장소명> <브랜치명>\n",
    "git push origin master:master\n",
    "\n",
    "\n",
    "git push origin main:feature/my-new-feature\n",
    "\n",
    "이 명령은 현재 로컬 브랜치인 main을 \n",
    "리모트 저장소인 origin에 있는 feature/my-new-feature 브랜치로 푸시하겠다는 의미입니다. \n",
    "즉, 로컬의 main 브랜치의 변경 사항을 origin 리모트 저장소의 \n",
    "feature/my-new-feature 브랜치에 업로드하려는 것입니다. \n",
    "이렇게 하면 로컬 브랜치와 리모트 브랜치 간에 연결이 설정되고, 변경 사항이 리모트 저장소에 반영됩니다."
   ]
  }
 ],
 "metadata": {
  "language_info": {
   "name": "python"
  },
  "orig_nbformat": 4
 },
 "nbformat": 4,
 "nbformat_minor": 2
}
